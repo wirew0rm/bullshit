{
 "cells": [
  {
   "cell_type": "markdown",
   "metadata": {},
   "source": [
    "# Concept\n",
    "* Use Jupyter Notebooks everywhere in the filesystem\n",
    "* There can also be \n",
    "* Add a UI element to Jupyter Notebooks to publish posts\n",
    "  * Blog: name/main dir of blog\n",
    "  * category: category, possibly nested\n",
    "  * template: name of template (Jinja2)\n",
    "  * Date: publishing date\n",
    "  * author: name of the author\n",
    "  * comments: enable comments for post\n",
    "  * hidden field: post UUID (random)\n",
    "* Global Settings are saved in config dir\n",
    "* Settings for the post are saved in the notepad metadata\n",
    "* The post is copied in the blog directory in the subdir coresponding to the category\n",
    "  * a comment is added where the original notebook is located\n",
    "* Compilation process of the blog is started\n",
    "  * only changed parts of blog are recompiled\n",
    "  * notebooks are executed and then exported"
   ]
  },
  {
   "cell_type": "markdown",
   "metadata": {},
   "source": [
    "## Comments\n",
    "* Realized using mailto forms\n",
    "* In-Reply-To Header, References used to track to which article an email belongs\n",
    "* Moderation via IMAP Flags im Mailprogramm\n",
    "* [test](mailto:alex@wirew0rm.de?subject=Ha!&In-Reply-To=<qCIO7-v1SGSEwUdDek7ufw@ismtpd0001p1las1.sendgrid.net>&body=Ha!%0D%0ABla!)\n",
    "* Send a mail for each article with comments enabled as a comment root\n",
    "* Hook in the mail system, which recompiles the comments to the corresponding article on flag change\n",
    "* compilation of comments is done on the server to allow for moderation from mobile devices"
   ]
  },
  {
   "cell_type": "markdown",
   "metadata": {},
   "source": [
    "## Images and Galleries\n",
    "* Images included via markdown or resulting from notebook output should be resized reasonably\n",
    "* Provide Functions that access an image library and generate a Gallery from it.\n",
    "* Original Files should maybe be copied to be provided as a download link"
   ]
  },
  {
   "cell_type": "markdown",
   "metadata": {},
   "source": [
    "## Acccess Control\n",
    "* there should be a way to make pages not publicly visible/only with link"
   ]
  },
  {
   "cell_type": "markdown",
   "metadata": {},
   "source": [
    "## State of Work\n",
    "* nbextension in blogsystem.js\n",
    "  * symlinked using \"jupyter nbextension install path/to/my_extension/ --user --symlink\" and enabled\n",
    "  * show toolbar button\n",
    "  * button only prints text in console\n",
    "* server_extension in python module blogsystem.BSext\n",
    "  * symlinked into .local/lib/python3.5/site-packages\n",
    "  * is loaded\n",
    "  * provides api endpoint\n",
    "  * stripping of output cells: [stripout](https://github.com/jond3k/ipynb_stripout/blob/master/ipynb_stripout_v3)\n",
    "  * saving to file\n",
    "  * determine what has to be rebuilt\n",
    "  * executing (in new kernel?) [executing from python](https://nbconvert.readthedocs.io/en/4.2.0/execute_api.html#executing-notebooks-using-the-python-api-interface)\n",
    "  * exporting to html from python code: [nbconvert as library](https://nbconvert.readthedocs.io/en/4.2.0/nbconvert_library.html), [nbconvert customize](https://nbconvert.readthedocs.io/en/4.2.0/external_exporters.html#extending-the-built-in-format-exporters)"
   ]
  },
  {
   "cell_type": "markdown",
   "metadata": {},
   "source": [
    "## Resources\n",
    "* [nbconvert doku](https://nbconvert.readthedocs.io/en/4.2.0/)\n",
    "* [jupyter doku](http://jupyter-notebook.readthedocs.io/en/latest/)\n",
    "* [jupyter-book](https://www.gitbook.com/book/carreau/jupyter-book/details)\n",
    "* [tornado: request handlers](http://www.tornadoweb.org/en/stable/web.html#request-handlers)\n",
    "* [nbextensions](https://github.com/ipython-contrib/jupyter_contrib_nbextensions/tree/8eb3f5fa24d37b4a20c25f08af39c481357b1150/src/jupyter_contrib_nbextensions/nbextensions): javascript extensions for Jupyter\n",
    "* []()"
   ]
  },
  {
   "cell_type": "markdown",
   "metadata": {},
   "source": [
    "## Templates\n",
    "* Jinja2: http://jinja.pocoo.org/\n",
    "* you might not need javascript: http://youmightnotneedjs.com/"
   ]
  },
  {
   "cell_type": "code",
   "execution_count": 4,
   "metadata": {
    "collapsed": false
   },
   "outputs": [
    {
     "data": {
      "text/plain": [
       "<module 'jupyter' from '/usr/lib/python3.5/site-packages/jupyter.py'>"
      ]
     },
     "execution_count": 4,
     "metadata": {},
     "output_type": "execute_result"
    }
   ],
   "source": [
    "\n"
   ]
  }
 ],
 "metadata": {
  "blog": {
   "author": "Alex",
   "blogdir": "~/blog/",
   "category": "linux",
   "comments": false,
   "publish_date": "20161013",
   "template": "blogpost",
   "uuid": "asdf"
  },
  "kernelspec": {
   "display_name": "Python 3",
   "language": "python",
   "name": "python3"
  },
  "language_info": {
   "codemirror_mode": {
    "name": "ipython",
    "version": 3
   },
   "file_extension": ".py",
   "mimetype": "text/x-python",
   "name": "python",
   "nbconvert_exporter": "python",
   "pygments_lexer": "ipython3",
   "version": "3.5.2"
  }
 },
 "nbformat": 4,
 "nbformat_minor": 0
}
